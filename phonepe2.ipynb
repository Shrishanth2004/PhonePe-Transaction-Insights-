{
 "cells": [
  {
   "cell_type": "code",
   "execution_count": null,
   "id": "835db9ac",
   "metadata": {},
   "outputs": [],
   "source": [
    "import pandas as pd\n",
    "import psycopg2\n",
    "import plotly.express as px\n",
    "import requests\n",
    "import json\n"
   ]
  },
  {
   "cell_type": "code",
   "execution_count": null,
   "id": "294b3936",
   "metadata": {},
   "outputs": [],
   "source": [
    "#DataFrame creation\n",
    "\n",
    "#sql connection\n",
    "mydb= psycopg2.connect(host=\"localhost\",\n",
    "                       user=\"postgres\",\n",
    "                       port=\"5432\",\n",
    "                       database=\"phonepe\",\n",
    "                       password=\"Shri@2004\")\n",
    "cursor=mydb.cursor()\n",
    "\n",
    "#---------------------------------------------------------------------------\n",
    "#agg_insurance_df\n",
    "cursor.execute(\"SELECT * FROM aggregated_insurance\")\n",
    "mydb.commit()\n",
    "table1=cursor.fetchall()\n",
    "\n",
    "Aggre_insurance=pd.DataFrame(table1,columns=(\"State\",\"Years\",\"Quarter\",\"Transaction_type\",\"Transaction_count\",\"Transaction_amount\"))\n",
    "\n",
    "\n",
    "#agg_transaction_df\n",
    "cursor.execute(\"SELECT * FROM aggregated_transaction\")\n",
    "mydb.commit()\n",
    "table2=cursor.fetchall()\n",
    "\n",
    "Aggre_transaction=pd.DataFrame(table2,columns=(\"State\",\"Years\",\"Quarter\",\"Transaction_type\",\"Transaction_count\",\"Transaction_amount\"))\n",
    "\n",
    "\n",
    "#agg_user_df\n",
    "cursor.execute(\"SELECT * FROM aggregated_user\")\n",
    "mydb.commit()\n",
    "table3=cursor.fetchall()\n",
    "\n",
    "Aggre_user=pd.DataFrame(table3,columns=(\"State\",\"Years\",\"Quarter\",\"Brands\",\"Transaction_count\",\"Percentage\"))\n",
    "\n",
    "#--------------------------------------------------------------------------------------------------------------\n",
    "#map_insurance_df\n",
    "cursor.execute(\"SELECT * FROM map_insurance\")\n",
    "mydb.commit()\n",
    "table4=cursor.fetchall()\n",
    "\n",
    "Map_insurance=pd.DataFrame(table4,columns=(\"State\",\"Years\",\"Quarter\",\"District\",\"Transaction_count\",\"Transaction_amount\"))\n",
    "\n",
    "\n",
    "#map_transaction_df\n",
    "cursor.execute(\"SELECT * FROM map_transaction\")\n",
    "mydb.commit()\n",
    "table5=cursor.fetchall()\n",
    "\n",
    "Map_transaction=pd.DataFrame(table5,columns=(\"State\",\"Years\",\"Quarter\",\"District\",\"Transaction_count\",\"Transaction_amount\"))\n",
    "\n",
    "\n",
    "#map_user_df\n",
    "cursor.execute(\"SELECT * FROM map_user\")\n",
    "mydb.commit()\n",
    "table6=cursor.fetchall()\n",
    "\n",
    "Map_user=pd.DataFrame(table6,columns=(\"State\",\"Years\",\"Quarter\",\"District\",\"RegisteredUserst\",\"AppOpens\"))\n",
    "\n",
    "#------------------------------------------------------------------------------------------------------------\n",
    "\n",
    "\n",
    "#top_insurance_df\n",
    "cursor.execute(\"SELECT * FROM top_insurance\")\n",
    "mydb.commit()\n",
    "table7=cursor.fetchall()\n",
    "\n",
    "Top_insurance=pd.DataFrame(table7,columns=(\"State\",\"Years\",\"Quarter\",\"Pincodes\",\"Transaction_count\",\"Transaction_amount\"))\n",
    "\n",
    "\n",
    "#top_transaction_df\n",
    "cursor.execute(\"SELECT * FROM top_transaction\")\n",
    "mydb.commit()\n",
    "table8=cursor.fetchall()\n",
    "\n",
    "Top_transaction=pd.DataFrame(table8,columns=(\"State\",\"Years\",\"Quarter\",\"Pincodes\",\"Transaction_count\",\"Transaction_amount\"))\n",
    "\n",
    "\n",
    "#top_user_df\n",
    "cursor.execute(\"SELECT * FROM top_user\")\n",
    "mydb.commit()\n",
    "table9=cursor.fetchall()\n",
    "\n",
    "Top_user=pd.DataFrame(table9,columns=(\"State\",\"Years\",\"Quarter\",\"Pincodes\",\"RegisteredUsers\"))"
   ]
  },
  {
   "cell_type": "code",
   "execution_count": null,
   "id": "2c5b2c51",
   "metadata": {},
   "outputs": [],
   "source": [
    "#sql connection\n",
    "def top_chart_transaction_amount(table_name):\n",
    "        mydb= psycopg2.connect(host=\"localhost\",\n",
    "                        user=\"postgres\",\n",
    "                        port=\"5432\",\n",
    "                        database=\"phonepe\",\n",
    "                        password=\"Shri@2004\")\n",
    "        cursor=mydb.cursor()\n",
    "\n",
    "        #plot1 \n",
    "        query1=f'''SELECT state, sum(transaction_amount) as transaction_amount\n",
    "                FROM {table_name}\n",
    "                group by state\n",
    "                order by transaction_amount desc\n",
    "                limit 10;'''\n",
    "        cursor.execute(query1)\n",
    "        table1=cursor.fetchall()\n",
    "        mydb.commit()\n",
    "\n",
    "        df1=pd.DataFrame(table1, columns=(\"state\",\"transaction_amount\"))\n",
    "        fig_amount=px.bar(df1, x=\"state\" ,y=\"transaction_amount\", title=\"TRANSACTION AMOUNT\",\n",
    "                        color_discrete_sequence=px.colors.sequential.Bluered_r,height=650, width=600,hover_name=\"state\")\n",
    "\n",
    "        fig_amount.show()\n",
    "\n",
    "        #plot2\n",
    "        query2=f'''SELECT state, sum(transaction_amount) as transaction_amount\n",
    "                FROM {table_name}\n",
    "                group by state\n",
    "                order by transaction_amount \n",
    "                limit 10;'''\n",
    "        cursor.execute(query2)\n",
    "        table2=cursor.fetchall()\n",
    "        mydb.commit()\n",
    "\n",
    "        df2=pd.DataFrame(table2, columns=(\"state\",\"transaction_amount\"))\n",
    "        fig_amount2=px.bar(df2, x=\"state\" ,y=\"transaction_amount\", title=\"TRANSACTION AMOUNT\",\n",
    "                        color_discrete_sequence=px.colors.sequential.Blues_r,height=650, width=600,hover_name=\"state\")\n",
    "\n",
    "        fig_amount2.show()\n",
    "\n",
    "\n",
    "        #plot3\n",
    "        query3=f'''SELECT state, avg(transaction_amount) as transaction_amount\n",
    "                FROM {table_name}\n",
    "                group by state\n",
    "                order by transaction_amount ;'''\n",
    "        cursor.execute(query3)\n",
    "        table3=cursor.fetchall()\n",
    "        mydb.commit()\n",
    "\n",
    "        df3=pd.DataFrame(table3, columns=(\"state\",\"transaction_amount\"))\n",
    "        fig_amount3=px.bar(df3, y=\"state\" ,x=\"transaction_amount\", title=\"TRANSACTION AMOUNT\", orientation=\"h\",\n",
    "                        color_discrete_sequence=px.colors.sequential.Bluered,height=650, width=600,hover_name=\"state\")\n",
    "\n",
    "        fig_amount3.show()\n"
   ]
  },
  {
   "cell_type": "code",
   "execution_count": null,
   "id": "f5715a9f",
   "metadata": {},
   "outputs": [],
   "source": [
    "#sql connection\n",
    "def top_chart_transaction_count(table_name):\n",
    "        mydb= psycopg2.connect(host=\"localhost\",\n",
    "                        user=\"postgres\",\n",
    "                        port=\"5432\",\n",
    "                        database=\"phonepe\",\n",
    "                        password=\"Shri@2004\")\n",
    "        cursor=mydb.cursor()\n",
    "\n",
    "        #plot1 \n",
    "        query1=f'''SELECT state, sum(transaction_count) as transaction_count\n",
    "                FROM {table_name}\n",
    "                group by state\n",
    "                order by transaction_count desc\n",
    "                limit 10;'''\n",
    "        cursor.execute(query1)\n",
    "        table1=cursor.fetchall()\n",
    "        mydb.commit()\n",
    "\n",
    "        df1=pd.DataFrame(table1, columns=(\"state\",\"transaction_count\"))\n",
    "        fig_amount=px.bar(df1, x=\"state\" ,y=\"transaction_count\", title=\"TRANSACTION COUNT\",\n",
    "                        color_discrete_sequence=px.colors.sequential.Bluered_r,height=650, width=600,hover_name=\"state\")\n",
    "\n",
    "        fig_amount.show()\n",
    "\n",
    "        #plot2\n",
    "        query2=f'''SELECT state, sum(transaction_count) as transaction_count\n",
    "                FROM {table_name}\n",
    "                group by state\n",
    "                order by transaction_count \n",
    "                limit 10;'''\n",
    "        cursor.execute(query2)\n",
    "        table2=cursor.fetchall()\n",
    "        mydb.commit()\n",
    "\n",
    "        df2=pd.DataFrame(table2, columns=(\"state\",\"transaction_count\"))\n",
    "        fig_amount2=px.bar(df2, x=\"state\" ,y=\"transaction_count\", title=\"TRANSACTION COUNT\",\n",
    "                        color_discrete_sequence=px.colors.sequential.Blues_r,height=650, width=600,hover_name=\"state\")\n",
    "\n",
    "        fig_amount2.show()\n",
    "\n",
    "\n",
    "        #plot3\n",
    "        query3=f'''SELECT state, avg(transaction_count) as transaction_count\n",
    "                FROM {table_name}\n",
    "                group by state\n",
    "                order by transaction_count ;'''\n",
    "        cursor.execute(query3)\n",
    "        table3=cursor.fetchall()\n",
    "        mydb.commit()\n",
    "\n",
    "        df3=pd.DataFrame(table3, columns=(\"state\",\"transaction_count\"))\n",
    "        fig_amount3=px.bar(df3, y=\"state\" ,x=\"transaction_count\", title=\"TRANSACTION COUNT\", orientation=\"h\",\n",
    "                        color_discrete_sequence=px.colors.sequential.Bluered,height=800, width=1000,hover_name=\"state\")\n",
    "\n",
    "        fig_amount3.show()\n"
   ]
  },
  {
   "cell_type": "code",
   "execution_count": null,
   "id": "5dfa056d",
   "metadata": {},
   "outputs": [],
   "source": [
    "#sql connection\n",
    "def top_chart_registereduser(table_name, state):\n",
    "        mydb= psycopg2.connect(host=\"localhost\",\n",
    "                        user=\"postgres\",\n",
    "                        port=\"5432\",\n",
    "                        database=\"phonepe\",\n",
    "                        password=\"Shri@2004\")\n",
    "        cursor=mydb.cursor()\n",
    "\n",
    "        #plot1 \n",
    "        query1=f'''select district, sum(registereduserst) as registereduser\n",
    "                    from {table_name}\n",
    "                    where state= '{state}'\n",
    "                    group by district\n",
    "                    order by registereduser desc\n",
    "                    limit 10;'''\n",
    "                    \n",
    "        cursor.execute(query1)\n",
    "        table1=cursor.fetchall()\n",
    "        mydb.commit()\n",
    "\n",
    "        df1=pd.DataFrame(table1, columns=(\"district\",\"registereduser\"))\n",
    "        \n",
    "        fig_amount=px.bar(df1, x=\"district\" ,y=\"registereduser\", title=\"TOP 10 REGISTERED USER\",\n",
    "                        color_discrete_sequence=px.colors.sequential.Bluered_r,height=650, width=600,hover_name=\"district\")\n",
    "\n",
    "        fig_amount.show()\n",
    "\n",
    "        #plot2\n",
    "        query2=f'''select district, sum(registereduserst) as registereduser\n",
    "                    from {table_name}\n",
    "                    where state= '{state}'\n",
    "                    group by district\n",
    "                    order by registereduser\n",
    "                    limit 10;'''\n",
    "                    \n",
    "        cursor.execute(query2)\n",
    "        table2=cursor.fetchall()\n",
    "        mydb.commit()\n",
    "\n",
    "        df2=pd.DataFrame(table1, columns=(\"district\",\"registereduser\"))\n",
    "        \n",
    "        fig_amount2=px.bar(df2, x=\"district\" ,y=\"registereduser\", title=\"LAST 10 REGISTERED USER\",\n",
    "                        color_discrete_sequence=px.colors.sequential.Bluered_r,height=650, width=600,hover_name=\"district\")\n",
    "\n",
    "        fig_amount2.show()\n",
    "\n",
    "\n",
    "        #plot3\n",
    "        query3=f'''select district, avg(registereduserst) as registereduser\n",
    "                    from {table_name}\n",
    "                    where state= '{state}'\n",
    "                    group by district\n",
    "                    order by registereduser;'''\n",
    "                    \n",
    "        cursor.execute(query3)\n",
    "        table3=cursor.fetchall()\n",
    "        mydb.commit()\n",
    "\n",
    "        df3=pd.DataFrame(table3, columns=(\"district\",\"registereduser\"))\n",
    "        \n",
    "        fig_amount3=px.bar(df3, y=\"district\" ,x=\"registereduser\", title=\"AVERAGE OF REGISTERED USER\",orientation=\"h\",\n",
    "                        color_discrete_sequence=px.colors.sequential.Bluered_r,height=650, width=600,hover_name=\"district\")\n",
    "\n",
    "        fig_amount3.show()\n"
   ]
  },
  {
   "cell_type": "code",
   "execution_count": null,
   "id": "d17ff7f6",
   "metadata": {},
   "outputs": [],
   "source": [
    "#sql connection\n",
    "def top_chart_appopens(table_name, state):\n",
    "        mydb= psycopg2.connect(host=\"localhost\",\n",
    "                        user=\"postgres\",\n",
    "                        port=\"5432\",\n",
    "                        database=\"phonepe\",\n",
    "                        password=\"Shri@2004\")\n",
    "        cursor=mydb.cursor()\n",
    "\n",
    "        #plot1 \n",
    "        query1=f'''select district, sum(appopens) as appopens\n",
    "                    from {table_name}\n",
    "                    where state= '{state}'\n",
    "                    group by district\n",
    "                    order by appopens desc\n",
    "                    limit 10;'''\n",
    "                    \n",
    "        cursor.execute(query1)\n",
    "        table1=cursor.fetchall()\n",
    "        mydb.commit()\n",
    "\n",
    "        df1=pd.DataFrame(table1, columns=(\"district\",\"appopens\"))\n",
    "        \n",
    "        fig_amount=px.bar(df1, x=\"district\" ,y=\"appopens\", title=\"TOP 10 APPOPENS\",\n",
    "                        color_discrete_sequence=px.colors.sequential.Bluered_r,height=650, width=600,hover_name=\"district\")\n",
    "\n",
    "        fig_amount.show()\n",
    "\n",
    "        #plot2\n",
    "        query2=f'''select district, sum(appopens) as appopens\n",
    "                    from {table_name}\n",
    "                    where state= '{state}'\n",
    "                    group by district\n",
    "                    order by appopens\n",
    "                    limit 10;'''\n",
    "                    \n",
    "        cursor.execute(query2)\n",
    "        table2=cursor.fetchall()\n",
    "        mydb.commit()\n",
    "\n",
    "        df2=pd.DataFrame(table1, columns=(\"district\",\"appopens\"))\n",
    "        \n",
    "        fig_amount2=px.bar(df2, x=\"district\" ,y=\"appopens\", title=\"LAST 10 APPOPENS\",\n",
    "                        color_discrete_sequence=px.colors.sequential.Bluered_r,height=650, width=600,hover_name=\"district\")\n",
    "\n",
    "        fig_amount2.show()\n",
    "\n",
    "\n",
    "        #plot3\n",
    "        query3=f'''select district, avg(appopens) as appopens\n",
    "                    from {table_name}\n",
    "                    where state= '{state}'\n",
    "                    group by district\n",
    "                    order by appopens;'''\n",
    "                    \n",
    "        cursor.execute(query3)\n",
    "        table3=cursor.fetchall()\n",
    "        mydb.commit()\n",
    "\n",
    "        df3=pd.DataFrame(table3, columns=(\"district\",\"appopens\"))\n",
    "        \n",
    "        fig_amount3=px.bar(df3, y=\"district\" ,x=\"appopens\", title=\"AVERAGE OF APPOPENS\",orientation=\"h\",\n",
    "                        color_discrete_sequence=px.colors.sequential.Bluered_r,height=650, width=600,hover_name=\"district\")\n",
    "\n",
    "        fig_amount3.show()\n"
   ]
  },
  {
   "cell_type": "code",
   "execution_count": null,
   "id": "c3272c59",
   "metadata": {},
   "outputs": [],
   "source": [
    "#sql connection\n",
    "def top_chart_registeredusers(table_name):\n",
    "        mydb= psycopg2.connect(host=\"localhost\",\n",
    "                        user=\"postgres\",\n",
    "                        port=\"5432\",\n",
    "                        database=\"phonepe\",\n",
    "                        password=\"Shri@2004\")\n",
    "        cursor=mydb.cursor()\n",
    "\n",
    "        #plot1 \n",
    "        query1=f'''select state, sum(registeredusers) as registeredusers\n",
    "                    from {table_name}\n",
    "                    group by state\n",
    "                    order by registeredusers desc\n",
    "                    limit 10;'''\n",
    "                    \n",
    "        cursor.execute(query1)\n",
    "        table1=cursor.fetchall()\n",
    "        mydb.commit()\n",
    "\n",
    "        df1=pd.DataFrame(table1, columns=(\"state\",\"registeredusers\"))\n",
    "        \n",
    "        fig_amount=px.bar(df1, x=\"state\" ,y=\"registeredusers\", title=\"TOP 10 REGISTERED USER\",\n",
    "                        color_discrete_sequence=px.colors.sequential.Bluered_r,height=650, width=600,hover_name=\"state\")\n",
    "\n",
    "        fig_amount.show()\n",
    "\n",
    "        #plot2\n",
    "        query2=f'''select state, sum(registeredusers) as registeredusers\n",
    "                    from {table_name}\n",
    "                    group by state\n",
    "                    order by registeredusers\n",
    "                    limit 10;'''\n",
    "                    \n",
    "        cursor.execute(query2)\n",
    "        table2=cursor.fetchall()\n",
    "        mydb.commit()\n",
    "\n",
    "        df2=pd.DataFrame(table1, columns=(\"state\",\"registeredusers\"))\n",
    "        \n",
    "        fig_amount2=px.bar(df2, x=\"state\" ,y=\"registeredusers\", title=\"LAST 10 REGISTERED USER\",\n",
    "                        color_discrete_sequence=px.colors.sequential.Bluered_r,height=650, width=600,hover_name=\"state\")\n",
    "\n",
    "        fig_amount2.show()\n",
    "\n",
    "\n",
    "        #plot3\n",
    "        query3=f'''select state, avg(registeredusers) as registeredusers\n",
    "                    from {table_name}\n",
    "                    group by state\n",
    "                    order by registeredusers;'''\n",
    "                    \n",
    "        cursor.execute(query3)\n",
    "        table3=cursor.fetchall()\n",
    "        mydb.commit()\n",
    "\n",
    "        df3=pd.DataFrame(table3, columns=(\"state\",\"registeredusers\"))\n",
    "        \n",
    "        fig_amount3=px.bar(df3, y=\"state\" ,x=\"registeredusers\", title=\"AVERAGE OF REGISTERED USER\",orientation=\"h\",\n",
    "                        color_discrete_sequence=px.colors.sequential.Bluered_r,height=650, width=600,hover_name=\"state\")\n",
    "\n",
    "        fig_amount3.show()\n"
   ]
  },
  {
   "cell_type": "code",
   "execution_count": null,
   "id": "5b1323fa",
   "metadata": {},
   "outputs": [],
   "source": [
    "top_chart_transaction_amount(\"aggregated_insurance\")"
   ]
  },
  {
   "cell_type": "code",
   "execution_count": null,
   "id": "8f08a785",
   "metadata": {},
   "outputs": [],
   "source": [
    "top_chart_transaction_count(\"aggregated_insurance\")"
   ]
  },
  {
   "cell_type": "code",
   "execution_count": null,
   "id": "46c9ad90",
   "metadata": {},
   "outputs": [],
   "source": [
    "top_chart_transaction_amount(\"map_insurance\")"
   ]
  },
  {
   "cell_type": "code",
   "execution_count": null,
   "id": "ce2dfcff",
   "metadata": {},
   "outputs": [],
   "source": [
    "top_chart_transaction_count(\"map_insurance\")"
   ]
  },
  {
   "cell_type": "code",
   "execution_count": null,
   "id": "0b152a20",
   "metadata": {},
   "outputs": [],
   "source": [
    "top_chart_transaction_amount(\"top_insurance\")"
   ]
  },
  {
   "cell_type": "code",
   "execution_count": null,
   "id": "69a8c4ce",
   "metadata": {},
   "outputs": [],
   "source": [
    "top_chart_transaction_count(\"top_insurance\")"
   ]
  },
  {
   "cell_type": "code",
   "execution_count": null,
   "id": "eb242fa8",
   "metadata": {},
   "outputs": [],
   "source": [
    "top_chart_transaction_amount(\"aggregated_transaction\")"
   ]
  },
  {
   "cell_type": "code",
   "execution_count": null,
   "id": "51bc82cb",
   "metadata": {},
   "outputs": [],
   "source": [
    "top_chart_transaction_count(\"aggregated_transaction\")"
   ]
  },
  {
   "cell_type": "code",
   "execution_count": null,
   "id": "c00cabc3",
   "metadata": {},
   "outputs": [],
   "source": [
    "top_chart_transaction_amount(\"map_transaction\")"
   ]
  },
  {
   "cell_type": "code",
   "execution_count": null,
   "id": "01d63772",
   "metadata": {},
   "outputs": [],
   "source": [
    "top_chart_transaction_count(\"map_transaction\")"
   ]
  },
  {
   "cell_type": "code",
   "execution_count": null,
   "id": "3790e3a6",
   "metadata": {},
   "outputs": [],
   "source": [
    "top_chart_transaction_amount(\"top_transaction\")"
   ]
  },
  {
   "cell_type": "code",
   "execution_count": null,
   "id": "b71690cb",
   "metadata": {},
   "outputs": [],
   "source": [
    "top_chart_transaction_count(\"top_transaction\") "
   ]
  },
  {
   "cell_type": "code",
   "execution_count": null,
   "id": "ba343b00",
   "metadata": {},
   "outputs": [],
   "source": [
    "top_chart_transaction_count(\"aggregated_user\")"
   ]
  },
  {
   "cell_type": "code",
   "execution_count": null,
   "id": "752d6480",
   "metadata": {},
   "outputs": [],
   "source": [
    "top_chart_registereduser(\"map_user\",\"Karnataka\")"
   ]
  },
  {
   "cell_type": "code",
   "execution_count": null,
   "id": "e28cbc5e",
   "metadata": {},
   "outputs": [],
   "source": [
    "top_chart_appopens(\"map_user\",\"Karnataka\")"
   ]
  },
  {
   "cell_type": "code",
   "execution_count": null,
   "id": "6fd35e22",
   "metadata": {},
   "outputs": [],
   "source": [
    "top_chart_registeredusers(\"top_user\")"
   ]
  },
  {
   "cell_type": "code",
   "execution_count": null,
   "id": "e8edfbe8",
   "metadata": {},
   "outputs": [],
   "source": [
    "#Transaction Year Based\n",
    "def Transaction_amount_count_Y(df, year):\n",
    "    tacy=df[df[\"Years\"]==year]   \n",
    "    tacy.reset_index(drop=True,inplace=True) \n",
    "\n",
    "    tacyg=tacy.groupby(\"State\")[[\"Transaction_count\",\"Transaction_amount\"]].sum()\n",
    "    tacyg.reset_index(inplace=True)\n",
    "\n",
    "    fig_amount=px.bar(tacyg, x=\"State\" ,y=\"Transaction_amount\", title=f\"{year} TRANSACTION AMOUNT\",\n",
    "                    color_discrete_sequence=px.colors.sequential.Bluered_r,height=650, width=600)\n",
    "\n",
    "    fig_amount.show()\n",
    "\n",
    "\n",
    "    fig_count=px.bar(tacyg, x=\"State\" ,y=\"Transaction_count\", title=f\"{year} TRANSACTION COUNT\",\n",
    "                    color_discrete_sequence=px.colors.sequential.Bluered,height=650, width=600)\n",
    "\n",
    "    fig_count.show()\n",
    "       \n",
    "    return tacy"
   ]
  },
  {
   "cell_type": "code",
   "execution_count": null,
   "id": "26111ceb",
   "metadata": {},
   "outputs": [],
   "source": [
    "#Transaction Quarter Based\n",
    "def Transaction_amount_count_Y_Q(df, quarter):\n",
    "    tacy=df[df[\"Quarter\"]==quarter]   \n",
    "    tacy.reset_index(drop=True,inplace=True) \n",
    "\n",
    "    tacyg=tacy.groupby(\"State\")[[\"Transaction_count\",\"Transaction_amount\"]].sum()\n",
    "    tacyg.reset_index(inplace=True)\n",
    "\n",
    "    fig_amount=px.bar(tacyg, x=\"State\" ,y=\"Transaction_amount\", title=f\"{tacy['Years'].min()} YEAR {quarter} QUARTER TRANSACTION AMOUNT\",\n",
    "                    color_discrete_sequence=px.colors.sequential.Bluered_r,height=650, width=600)\n",
    "\n",
    "    fig_amount.show()\n",
    "\n",
    "\n",
    "    fig_count=px.bar(tacyg, x=\"State\" ,y=\"Transaction_count\", title=f\"{tacy['Years'].min()} YEAR {quarter} QUARTER TRANSACTION COUNT\",\n",
    "                    color_discrete_sequence=px.colors.sequential.Bluered,height=650, width=600)\n",
    "\n",
    "    fig_count.show()\n",
    "       \n",
    "    return tacy\n",
    "    "
   ]
  },
  {
   "cell_type": "code",
   "execution_count": null,
   "id": "ce320a57",
   "metadata": {},
   "outputs": [],
   "source": [
    "#Transaction Type\n",
    "def Aggre_Tran_Transaction_type(df, state):\n",
    "    tacy=df[df[\"State\"]==state]   \n",
    "    tacy.reset_index(drop=True,inplace=True) \n",
    "\n",
    "    tacyg=tacy.groupby(\"Transaction_type\")[[\"Transaction_count\",\"Transaction_amount\"]].sum()\n",
    "    tacyg.reset_index(inplace=True)\n",
    "\n",
    "    fig_pie1=px.pie(data_frame= tacyg, names=\"Transaction_type\", values=\"Transaction_amount\",\n",
    "                    width=600, title=f\"{state.upper()} TRANSACTION AMOUNT\",  hole=0.5)\n",
    "    fig_pie1.show()\n",
    "\n",
    "    fig_pie2=px.pie(data_frame= tacyg, names=\"Transaction_type\", values=\"Transaction_count\",\n",
    "                    width=600, title=f\"{state.upper()} TRANSACTION COUNT\",  hole=0.5)\n",
    "    fig_pie2.show()\n"
   ]
  },
  {
   "cell_type": "code",
   "execution_count": null,
   "id": "1d1a2743",
   "metadata": {},
   "outputs": [],
   "source": [
    "#Aggregated user analysis1\n",
    "def Aggre_user_plot1(df,year):\n",
    "    aguy=df[df[\"Years\"]==year]\n",
    "    aguy.reset_index(drop=True,inplace= True)\n",
    "\n",
    "    aguyg=pd.DataFrame(aguy.groupby(\"Brands\")[\"Transaction_count\"].sum())\n",
    "    aguyg.reset_index(inplace=True)\n",
    "\n",
    "    fig_bar1=px.bar(aguyg, x=\"Brands\",y=\"Transaction_count\", title=f\"{year} BRANDS AND TRANSACTION COUNT\",\n",
    "                    width=1000, color_discrete_sequence=px.colors.sequential.Greens_r,hover_name=\"Brands\")\n",
    "    fig_bar1.show()\n",
    "    \n",
    "    return aguy"
   ]
  },
  {
   "cell_type": "code",
   "execution_count": null,
   "id": "0056e3ba",
   "metadata": {},
   "outputs": [],
   "source": [
    "# Aggregated user analysis 2\n",
    "def Aggre_user_plot2(df, quarter):\n",
    "    aguyq=df[df[\"Quarter\"]==quarter]\n",
    "    aguyq.reset_index(drop=True,inplace= True)\n",
    "\n",
    "    aguyqg=pd.DataFrame(aguyq.groupby(\"Brands\")[\"Transaction_count\"].sum())\n",
    "    aguyqg.reset_index(inplace=True)\n",
    "\n",
    "    fig_bar2=px.bar(aguyqg, x=\"Brands\",y=\"Transaction_count\", title=f\"{quarter} QUARTER, BRANDS AND TRANSACTION COUNT\",\n",
    "                        width=1000, color_discrete_sequence=px.colors.sequential.Greens_r,hover_name=\"Brands\")\n",
    "    fig_bar2.show()\n",
    "    \n",
    "    return aguyq"
   ]
  },
  {
   "cell_type": "code",
   "execution_count": null,
   "id": "dab7443e",
   "metadata": {},
   "outputs": [],
   "source": [
    "#aggregated user analysis 3\n",
    "def Aggre_user_plot3(df,state):\n",
    "    auyqs=df[df[\"State\"]==state]\n",
    "    auyqs.reset_index(drop=True,inplace=True)\n",
    "\n",
    "    fig_line1=px.line(auyqs, x=\"Brands\",y=\"Transaction_count\", hover_data= \"Percentage\",\n",
    "                    title=f\"{state.upper()} BRANDS, TRANSACTION COUNT, PERCENTAGE\",width=1000,markers=True)\n",
    "    fig_line1.show()"
   ]
  },
  {
   "cell_type": "code",
   "execution_count": null,
   "id": "dc49a379",
   "metadata": {},
   "outputs": [],
   "source": [
    "#map insurance district \n",
    "def Map_insur_District(df, state):\n",
    "    \n",
    "    tacy=df[df[\"State\"]==state]   \n",
    "    tacy.reset_index(drop=True,inplace=True) \n",
    "\n",
    "    tacyg=tacy.groupby(\"District\")[[\"Transaction_count\",\"Transaction_amount\"]].sum()\n",
    "    tacyg.reset_index(inplace=True)\n",
    "\n",
    "    fig_bar1=px.bar(tacyg, x=\"Transaction_amount\", y=\"District\", orientation=\"h\",\n",
    "                    title=f\"{state.upper()} DISTRICT AND TRANSACTION AMOUNT\",color_discrete_sequence= px.colors.sequential.Mint_r)\n",
    "    fig_bar1.show()\n",
    "\n",
    "    fig_bar2=px.bar(tacyg, x=\"Transaction_count\", y=\"District\", orientation=\"h\",\n",
    "                    title=f\"{state.upper()} DISTRICT AND TRANSACTION COUNT\",color_discrete_sequence= px.colors.sequential.Redor_r)\n",
    "    fig_bar2.show()\n"
   ]
  },
  {
   "cell_type": "code",
   "execution_count": null,
   "id": "e257585c",
   "metadata": {},
   "outputs": [],
   "source": [
    "#map user plot1\n",
    "def map_user_plot1(df,year):\n",
    "    muy=df[df[\"Years\"]==year]\n",
    "    muy.reset_index(drop=True,inplace= True)\n",
    "\n",
    "    muyg=pd.DataFrame(muy.groupby(\"State\")[[\"RegisteredUserst\", \"AppOpens\"]].sum())\n",
    "    muyg.reset_index(inplace=True)\n",
    "    muyg\n",
    "\n",
    "    fig_line1=px.line(muy, x=\"State\",y=[\"RegisteredUserst\", \"AppOpens\"],\n",
    "                        title=f\"{year} REGISTERED USER, APPOPENS\",width=1000,height=800,markers=True)\n",
    "    fig_line1.show()\n",
    "    \n",
    "    return muy"
   ]
  },
  {
   "cell_type": "code",
   "execution_count": null,
   "id": "35948481",
   "metadata": {},
   "outputs": [],
   "source": [
    "#map user plot2\n",
    "def map_user_plot2(df,quarter):\n",
    "    muyq=df[df[\"Quarter\"]==quarter]\n",
    "    muyq.reset_index(drop=True,inplace= True)\n",
    "\n",
    "    muyqg=pd.DataFrame(muyq.groupby(\"State\")[[\"RegisteredUserst\", \"AppOpens\"]].sum())\n",
    "    muyqg.reset_index(inplace=True)\n",
    "    \n",
    "\n",
    "    fig_line2=px.line(muyqg, x=\"State\",y=[\"RegisteredUserst\", \"AppOpens\"],\n",
    "                        title=f\"{df['Years'].min()} YEAR {quarter} QUARTER REGISTERED USER, APPOPENS\",width=1000,height=800,markers=True)\n",
    "    fig_line2.show()\n",
    "    \n",
    "    return muyq"
   ]
  },
  {
   "cell_type": "code",
   "execution_count": null,
   "id": "1ffcf655",
   "metadata": {},
   "outputs": [],
   "source": [
    "#map user plot3\n",
    "def map_user_plot3(df,state):\n",
    "    muyqs=df[df[\"State\"]==state]\n",
    "    muyqs.reset_index(drop=True,inplace= True)\n",
    "\n",
    "    fig_map_user_bar1=px.bar(muyqs, x=\"RegisteredUserst\", y=\"District\", orientation=\"h\",\n",
    "                            title=f\"{state.upper()} REGISTERED USER\", height=700, color_discrete_sequence=px.colors.sequential.RdBu_r)\n",
    "    fig_map_user_bar1.show()\n",
    "\n",
    "    fig_map_user_bar2=px.bar(muyqs, x=\"AppOpens\", y=\"District\", orientation=\"h\",\n",
    "                            title=f\"{state.upper()} APP OPENS\", height=700, color_discrete_sequence=px.colors.sequential.Bluered_r)\n",
    "    fig_map_user_bar2.show()"
   ]
  },
  {
   "cell_type": "code",
   "execution_count": null,
   "id": "5b2a9c80",
   "metadata": {},
   "outputs": [],
   "source": [
    "#top insurance plot1\n",
    "def Top_insurance_plot1(df,state):\n",
    "    tiy=df[df[\"State\"]==state]\n",
    "    tiy.reset_index(drop=True,inplace= True)\n",
    "\n",
    "    fig_top_insur_bar1=px.bar(tiy, x=\"Quarter\", y=\"Transaction_amount\",hover_data=\"Pincodes\",\n",
    "                                title= \"TRANSACTION AMOUNT\", height=700, color_discrete_sequence=px.colors.sequential.BuGn_r)\n",
    "    fig_top_insur_bar1.show()\n",
    "    \n",
    "    fig_top_insur_bar2=px.bar(tiy, x=\"Quarter\", y=\"Transaction_count\",hover_data=\"Pincodes\",\n",
    "                                title= \"TRANSACTION COUNT\", height=700, color_discrete_sequence=px.colors.sequential.Blues_r)\n",
    "    fig_top_insur_bar2.show()\n",
    "    "
   ]
  },
  {
   "cell_type": "code",
   "execution_count": null,
   "id": "d6155b92",
   "metadata": {},
   "outputs": [],
   "source": [
    "#top user plot 1\n",
    "def Top_user_plot1(df,year):\n",
    "    tuy=df[df[\"Years\"]==year]\n",
    "    tuy.reset_index(drop=True,inplace= True)\n",
    "\n",
    "    tuyg=pd.DataFrame(tuy.groupby([\"State\",\"Quarter\"])[\"RegisteredUsers\"].sum())\n",
    "    tuyg.reset_index(inplace=True)\n",
    "\n",
    "    fig_top_plot1=px.bar(tuyg, x=\"State\", y=\"RegisteredUsers\",color=\"Quarter\",width=1000,height=800,hover_name=\"State\",\n",
    "                        color_discrete_sequence=px.colors.sequential.Burgyl,title=f\"{year} REGISTERED USER\")\n",
    "    fig_top_plot1.show()\n",
    "    \n",
    "    return tuy"
   ]
  },
  {
   "cell_type": "code",
   "execution_count": null,
   "id": "686d26d0",
   "metadata": {},
   "outputs": [],
   "source": [
    "#top user plot 2\n",
    "def Top_user_plot2(df,state):\n",
    "    tuys=df[df[\"State\"]==state]\n",
    "    tuys.reset_index(drop=True,inplace= True)\n",
    "\n",
    "    fig_top_plot2=px.bar(tuys, x=\"Quarter\",y=\"RegisteredUsers\", title=f\"{state.upper()} REGISTRED USER, PINCODDES, QUARTERS\",\n",
    "                        width=1000,height=800,color=\"RegisteredUsers\", hover_data=\"Pincodes\",color_continuous_scale=px.colors.sequential.Magenta_r)\n",
    "    fig_top_plot2.show()"
   ]
  },
  {
   "cell_type": "markdown",
   "id": "199aaeb0",
   "metadata": {},
   "source": [
    "## Aggregated insurance"
   ]
  },
  {
   "cell_type": "code",
   "execution_count": null,
   "id": "999c380f",
   "metadata": {},
   "outputs": [],
   "source": [
    "tac_Y=Transaction_amount_count_Y(Aggre_insurance,2024)"
   ]
  },
  {
   "cell_type": "code",
   "execution_count": null,
   "id": "3bcda6e2",
   "metadata": {},
   "outputs": [],
   "source": [
    "Aggre_insur_tac_Y_Q=Transaction_amount_count_Y_Q(tac_Y, 2)\n"
   ]
  },
  {
   "cell_type": "markdown",
   "id": "dd7450ea",
   "metadata": {},
   "source": [
    "## Aggregated Transaction"
   ]
  },
  {
   "cell_type": "code",
   "execution_count": null,
   "id": "b8115043",
   "metadata": {},
   "outputs": [],
   "source": [
    "Aggre_tran_tac_Y=Transaction_amount_count_Y(Aggre_transaction,2023)\n"
   ]
  },
  {
   "cell_type": "code",
   "execution_count": null,
   "id": "86523d8e",
   "metadata": {},
   "outputs": [],
   "source": [
    "Aggre_Tran_Transaction_type(Aggre_tran_tac_Y,\"Bihar\")"
   ]
  },
  {
   "cell_type": "code",
   "execution_count": null,
   "id": "e6b1fd0a",
   "metadata": {},
   "outputs": [],
   "source": [
    "Aggre_tran_tac_Y_Q= Transaction_amount_count_Y_Q(Aggre_tran_tac_Y, 3)\n"
   ]
  },
  {
   "cell_type": "code",
   "execution_count": null,
   "id": "7e4e32d6",
   "metadata": {},
   "outputs": [],
   "source": [
    "Aggre_Tran_Transaction_type(Aggre_tran_tac_Y_Q,\"Bihar\")"
   ]
  },
  {
   "cell_type": "markdown",
   "id": "17fe3e97",
   "metadata": {},
   "source": [
    "## Aggregated user\n"
   ]
  },
  {
   "cell_type": "code",
   "execution_count": null,
   "id": "5e94e2fe",
   "metadata": {},
   "outputs": [],
   "source": [
    "Aggre_user_Y=Aggre_user_plot1(Aggre_user,2021)"
   ]
  },
  {
   "cell_type": "code",
   "execution_count": null,
   "id": "6056333e",
   "metadata": {},
   "outputs": [],
   "source": [
    "Aggre_user_Y_Q=Aggre_user_plot2(Aggre_user_Y, 2)"
   ]
  },
  {
   "cell_type": "code",
   "execution_count": null,
   "id": "6fefeede",
   "metadata": {},
   "outputs": [],
   "source": [
    "Aggre_user_plot3(Aggre_user_Y_Q, \"Andaman & Nicobar\")"
   ]
  },
  {
   "cell_type": "markdown",
   "id": "b0bac116",
   "metadata": {},
   "source": [
    "## MAP insurance"
   ]
  },
  {
   "cell_type": "code",
   "execution_count": null,
   "id": "8d369a3a",
   "metadata": {},
   "outputs": [],
   "source": [
    "Map_insur_tac_Y=Transaction_amount_count_Y(Map_insurance,2023)"
   ]
  },
  {
   "cell_type": "code",
   "execution_count": null,
   "id": "f97de908",
   "metadata": {},
   "outputs": [],
   "source": [
    "Map_insur_District(Map_insur_tac_Y, \"West Bengal\")"
   ]
  },
  {
   "cell_type": "code",
   "execution_count": null,
   "id": "911fd2fc",
   "metadata": {},
   "outputs": [],
   "source": [
    "Map_insur_tac_Y_Q= Transaction_amount_count_Y_Q(Map_insur_tac_Y, 3)"
   ]
  },
  {
   "cell_type": "code",
   "execution_count": null,
   "id": "9fedf840",
   "metadata": {},
   "outputs": [],
   "source": [
    "Map_insur_District(Map_insur_tac_Y_Q,\"Bihar\")"
   ]
  },
  {
   "cell_type": "markdown",
   "id": "5d945143",
   "metadata": {},
   "source": [
    "## Map Transaction"
   ]
  },
  {
   "cell_type": "code",
   "execution_count": null,
   "id": "6cb34130",
   "metadata": {},
   "outputs": [],
   "source": [
    "Map_tran_tac_Y=Transaction_amount_count_Y(Map_transaction,2023)"
   ]
  },
  {
   "cell_type": "code",
   "execution_count": null,
   "id": "5c6bdb7b",
   "metadata": {},
   "outputs": [],
   "source": [
    "Map_insur_District(Map_tran_tac_Y, \"West Bengal\")"
   ]
  },
  {
   "cell_type": "code",
   "execution_count": null,
   "id": "f085c0db",
   "metadata": {},
   "outputs": [],
   "source": [
    "Map_tran_tac_Y_Q= Transaction_amount_count_Y_Q(Map_tran_tac_Y, 3)"
   ]
  },
  {
   "cell_type": "code",
   "execution_count": null,
   "id": "5adc63fe",
   "metadata": {},
   "outputs": [],
   "source": [
    "Map_insur_District(Map_tran_tac_Y_Q,\"Bihar\")"
   ]
  },
  {
   "cell_type": "markdown",
   "id": "d1038712",
   "metadata": {},
   "source": [
    "## Map User"
   ]
  },
  {
   "cell_type": "code",
   "execution_count": null,
   "id": "b5a5d8b2",
   "metadata": {},
   "outputs": [],
   "source": [
    "Map_user_Y=map_user_plot1(Map_user,2021)"
   ]
  },
  {
   "cell_type": "code",
   "execution_count": null,
   "id": "94b09dee",
   "metadata": {},
   "outputs": [],
   "source": [
    "Map_user_Y_Q=map_user_plot2(Map_user_Y,2)"
   ]
  },
  {
   "cell_type": "code",
   "execution_count": null,
   "id": "23c07ec8",
   "metadata": {},
   "outputs": [],
   "source": [
    "map_user_plot3(Map_user_Y_Q, \"Tamil Nadu\")"
   ]
  },
  {
   "cell_type": "markdown",
   "id": "9addb7cb",
   "metadata": {},
   "source": [
    "## Top insurance"
   ]
  },
  {
   "cell_type": "code",
   "execution_count": null,
   "id": "b87462f6",
   "metadata": {},
   "outputs": [],
   "source": [
    "Top_insur_tac_Y=Transaction_amount_count_Y(Top_insurance,2023)"
   ]
  },
  {
   "cell_type": "code",
   "execution_count": null,
   "id": "38e60a7d",
   "metadata": {},
   "outputs": [],
   "source": [
    "Top_insurance_plot1(Top_insur_tac_Y, \"West Bengal\")"
   ]
  },
  {
   "cell_type": "code",
   "execution_count": null,
   "id": "0a412a0e",
   "metadata": {},
   "outputs": [],
   "source": [
    "Top_insur_tac_Y_Q= Transaction_amount_count_Y_Q(Top_insur_tac_Y, 3)"
   ]
  },
  {
   "cell_type": "markdown",
   "id": "ab1e410d",
   "metadata": {},
   "source": [
    "## Top transaction"
   ]
  },
  {
   "cell_type": "code",
   "execution_count": null,
   "id": "61d7d319",
   "metadata": {},
   "outputs": [],
   "source": [
    "Top_tran_tac_Y=Transaction_amount_count_Y(Top_transaction,2023)"
   ]
  },
  {
   "cell_type": "code",
   "execution_count": null,
   "id": "45075085",
   "metadata": {},
   "outputs": [],
   "source": [
    "Top_insurance_plot1(Top_tran_tac_Y, \"West Bengal\")"
   ]
  },
  {
   "cell_type": "code",
   "execution_count": null,
   "id": "2e189dcf",
   "metadata": {},
   "outputs": [],
   "source": [
    "Top_tran_tac_Y_Q= Transaction_amount_count_Y_Q(Top_tran_tac_Y, 3)"
   ]
  },
  {
   "cell_type": "markdown",
   "id": "4584ddea",
   "metadata": {},
   "source": [
    "## Top user"
   ]
  },
  {
   "cell_type": "code",
   "execution_count": null,
   "id": "dada0f72",
   "metadata": {},
   "outputs": [],
   "source": [
    "Top_user_Y=Top_user_plot1(Top_user,2020)"
   ]
  },
  {
   "cell_type": "code",
   "execution_count": null,
   "id": "cd889d0a",
   "metadata": {},
   "outputs": [],
   "source": [
    "Top_user_plot2(Top_user_Y,\"West Bengal\")"
   ]
  }
 ],
 "metadata": {
  "kernelspec": {
   "display_name": ".venv",
   "language": "python",
   "name": "python3"
  },
  "language_info": {
   "codemirror_mode": {
    "name": "ipython",
    "version": 3
   },
   "file_extension": ".py",
   "mimetype": "text/x-python",
   "name": "python",
   "nbconvert_exporter": "python",
   "pygments_lexer": "ipython3",
   "version": "3.12.10"
  }
 },
 "nbformat": 4,
 "nbformat_minor": 5
}
